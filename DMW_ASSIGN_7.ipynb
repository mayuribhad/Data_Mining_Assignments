{
  "nbformat": 4,
  "nbformat_minor": 0,
  "metadata": {
    "colab": {
      "provenance": [],
      "authorship_tag": "ABX9TyO1V0DcvNzKAHDJwlPUm2bu",
      "include_colab_link": true
    },
    "kernelspec": {
      "name": "python3",
      "display_name": "Python 3"
    },
    "language_info": {
      "name": "python"
    }
  },
  "cells": [
    {
      "cell_type": "markdown",
      "metadata": {
        "id": "view-in-github",
        "colab_type": "text"
      },
      "source": [
        "<a href=\"https://colab.research.google.com/github/mayuribhad/Data_Mining_Assignments/blob/main/DMW_ASSIGN_7.ipynb\" target=\"_parent\"><img src=\"https://colab.research.google.com/assets/colab-badge.svg\" alt=\"Open In Colab\"/></a>"
      ]
    },
    {
      "cell_type": "markdown",
      "source": [
        "NAME - MAYURI ASHOK BHAD\n",
        "\n",
        "ROLL NO - 01\n",
        "\n",
        "BATCH - AB4\n",
        "\n",
        "PRN NO - UCS19F1007"
      ],
      "metadata": {
        "id": "dXuchB1FWFX4"
      }
    },
    {
      "cell_type": "code",
      "execution_count": null,
      "metadata": {
        "id": "y1Oh2fK8V-uj"
      },
      "outputs": [],
      "source": [
        "#euclidean distance \n",
        "from math import*\n",
        " \n",
        "def euclidean_distance(x,y):\n",
        " \n",
        "    return sqrt(sum(pow(a-b,2) for a, b in zip(x, y)))\n"
      ]
    },
    {
      "cell_type": "code",
      "source": [
        "print(euclidean_distance([0,3,4,5],[7,6,3,-1]))\n",
        "     "
      ],
      "metadata": {
        "colab": {
          "base_uri": "https://localhost:8080/"
        },
        "id": "ruVaufk6Wk-F",
        "outputId": "1165831b-94ec-48bc-b879-e2fb09e23fff"
      },
      "execution_count": null,
      "outputs": [
        {
          "output_type": "stream",
          "name": "stdout",
          "text": [
            "9.746794344808963\n"
          ]
        }
      ]
    },
    {
      "cell_type": "code",
      "source": [
        "#manhattan distance \n",
        "from math import*\n",
        " \n",
        "def manhattan_distance(x,y):\n",
        " \n",
        "    return sum(abs(a-b) for a,b in zip(x,y))\n",
        " \n",
        "     "
      ],
      "metadata": {
        "id": "dF7ob-RAWsgK"
      },
      "execution_count": null,
      "outputs": []
    },
    {
      "cell_type": "code",
      "source": [
        "print(manhattan_distance([10,20,10],[10,20,20]))\n",
        "     "
      ],
      "metadata": {
        "colab": {
          "base_uri": "https://localhost:8080/"
        },
        "id": "MEY6s4tFWxZi",
        "outputId": "ac85ebd5-79d7-4562-934c-ff9c50ae1b83"
      },
      "execution_count": null,
      "outputs": [
        {
          "output_type": "stream",
          "name": "stdout",
          "text": [
            "10\n"
          ]
        }
      ]
    },
    {
      "cell_type": "code",
      "source": [
        "#minkowski distance \n",
        "\n",
        "from math import*\n",
        "from decimal import Decimal\n",
        " \n",
        "def nth_root(value, n_root):\n",
        " \n",
        "    root_value = 1/float(n_root)\n",
        "    return round (Decimal(value) ** Decimal(root_value),3)\n",
        " \n",
        "def minkowski_distance(x,y,p_value):\n",
        " \n",
        "    return nth_root(sum(pow(abs(a-b),p_value) for a,b in zip(x, y)),p_value)"
      ],
      "metadata": {
        "id": "8g-Axot5W2Fy"
      },
      "execution_count": null,
      "outputs": []
    },
    {
      "cell_type": "code",
      "source": [
        "print (minkowski_distance([0,3,4,5],[7,6,3,-1],3))"
      ],
      "metadata": {
        "colab": {
          "base_uri": "https://localhost:8080/"
        },
        "id": "-fXT1-5KW5_D",
        "outputId": "35e591cd-5e94-4c16-be53-b95541bae2b0"
      },
      "execution_count": null,
      "outputs": [
        {
          "output_type": "stream",
          "name": "stdout",
          "text": [
            "8.373\n"
          ]
        }
      ]
    },
    {
      "cell_type": "code",
      "source": [
        "from math import*\n",
        " \n",
        "def square_rooted(x):\n",
        " \n",
        "    return round(sqrt(sum([a*a for a in x])),3)\n",
        " \n",
        "def cosine_similarity(x,y):\n",
        "    numerator = sum(a*b for a,b in zip(x,y))\n",
        "    denominator = square_rooted(x)*square_rooted(y)\n",
        "    return round(numerator/float(denominator),3)\n",
        "     "
      ],
      "metadata": {
        "id": "xbeQnPWhW9LF"
      },
      "execution_count": null,
      "outputs": []
    },
    {
      "cell_type": "code",
      "source": [
        "print(cosine_similarity([3, 45, 7, 2], [2, 54, 13, 15]))\n",
        "     "
      ],
      "metadata": {
        "colab": {
          "base_uri": "https://localhost:8080/"
        },
        "id": "ny1IPPGCXBBI",
        "outputId": "0b5804db-e146-42ec-e267-49263a6d3ca9"
      },
      "execution_count": null,
      "outputs": [
        {
          "output_type": "stream",
          "name": "stdout",
          "text": [
            "0.972\n"
          ]
        }
      ]
    },
    {
      "cell_type": "code",
      "source": [],
      "metadata": {
        "id": "A9LdkFZaXGr2"
      },
      "execution_count": null,
      "outputs": []
    }
  ]
}